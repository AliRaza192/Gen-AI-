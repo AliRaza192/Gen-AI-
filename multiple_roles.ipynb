{
 "cells": [
  {
   "cell_type": "code",
   "execution_count": 1,
   "metadata": {},
   "outputs": [],
   "source": [
    "from openai import OpenAI \n",
    "from dotenv import load_dotenv, find_dotenv\n",
    "\n",
    "_: bool = load_dotenv(find_dotenv())\n",
    "\n",
    "client : OpenAI = OpenAI()"
   ]
  },
  {
   "cell_type": "code",
   "execution_count": 14,
   "metadata": {},
   "outputs": [
    {
     "data": {
      "text/plain": [
       "{'id': 'chatcmpl-8bNqk9vImzZYZQh8o1cAES3F6UDyw',\n",
       " 'choices': [Choice(finish_reason='stop', index=0, logprobs=None, message=ChatCompletionMessage(content=\"In the world of code, a concept hides,\\nA looping dance that transcends the tides,\\nRecursion, a spectacle, mesmerizing and sweet,\\nA mysterious loop that's endlessly fleet.\\n\\nIt's a function that calls itself with grace,\\nA journey through layers, a recursive embrace,\\nLike a mirror reflecting its own reflection,\\nRepeating, unfolding, with endless affection.\\n\\nLike a Russian doll nested inside another,\\nEach call creates a new layer to uncover,\\nDown the rabbit hole, it spirals and winds,\\nA magical dance of looping minds.\\n\\nA problem divided, then conquered again,\\nRecursion untangles the web of strain,\\nAnd as the calls echo through the deep,\\nComplex tasks unravel, in a beautiful leap.\\n\\nSo, in the realm of code, where logic thrives,\\nRecursion enchants with recursive vibes,\\nA poetic dance of patterns untold,\\nIn the symphony of code, recursion unfolds.\", role='assistant', function_call=None, tool_calls=None))],\n",
       " 'created': 1703920506,\n",
       " 'model': 'gpt-3.5-turbo-1106',\n",
       " 'object': 'chat.completion',\n",
       " 'system_fingerprint': 'fp_772e8125bb',\n",
       " 'usage': CompletionUsage(completion_tokens=184, prompt_tokens=39, total_tokens=223)}"
      ]
     },
     "metadata": {},
     "output_type": "display_data"
    },
    {
     "name": "stdout",
     "output_type": "stream",
     "text": [
      "None\n"
     ]
    }
   ],
   "source": [
    "# sysetem wo machine hai jis ko hum kehte hain tumhara role ye hai , isi boundry main tumne jwab dena hai\n",
    "# normely hum aik role dete hain , agr multple roles dene ho to ye tariqa hai\n",
    "from openai.types.chat.chat_completion import ChatCompletion\n",
    "\n",
    "def chat_completion()->str:\n",
    "    completion : ChatCompletion = client.chat.completions.create(\n",
    "      model = \"gpt-3.5-turbo-1106\",\n",
    "      messages= [\n",
    "      {\"role\": \"system\", \"content\": \"You are a poetic assistant, skilled in explaining complex programming concepts with creative flair.\"},\n",
    "      {\"role\": \"user\", \"content\": \"Compose a poem that explains the concept of recursion in programming.\"}\n",
    "      ]\n",
    "    )\n",
    "    display(dict(completion))\n",
    "    # return completion.choices[0].message.content\n",
    "\n",
    "print(chat_completion())"
   ]
  }
 ],
 "metadata": {
  "kernelspec": {
   "display_name": "python12",
   "language": "python",
   "name": "python3"
  },
  "language_info": {
   "codemirror_mode": {
    "name": "ipython",
    "version": 3
   },
   "file_extension": ".py",
   "mimetype": "text/x-python",
   "name": "python",
   "nbconvert_exporter": "python",
   "pygments_lexer": "ipython3",
   "version": "3.12.0"
  }
 },
 "nbformat": 4,
 "nbformat_minor": 2
}
