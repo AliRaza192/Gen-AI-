{
 "cells": [
  {
   "cell_type": "code",
   "execution_count": 1,
   "metadata": {},
   "outputs": [],
   "source": [
    "from openai import OpenAI \n",
    "from dotenv import load_dotenv, find_dotenv\n",
    "\n",
    "_: bool = load_dotenv(find_dotenv())\n",
    "\n",
    "client : OpenAI = OpenAI()"
   ]
  },
  {
   "cell_type": "code",
   "execution_count": 2,
   "metadata": {},
   "outputs": [
    {
     "name": "stdout",
     "output_type": "stream",
     "text": [
      "{\n",
      "  \"months\": [\n",
      "    \"January\",\n",
      "    \"March\",\n",
      "    \"May\",\n",
      "    \"July\",\n",
      "    \"August\",\n",
      "    \"October\",\n",
      "    \"December\"\n",
      "  ]\n",
      "}\n"
     ]
    }
   ],
   "source": [
    "# kisi b data ko json format main genrate karwane k liye model or messages k sath format define karte hai or message main system wale role  k end main //\n",
    "# out JSON lihkte hain \n",
    "\n",
    "# json me jwb lene ka maqasad koi b condition perform karwana hai , hume programing me koi logicl lihkna hai to pehle json format main genrate karwaye gay //\n",
    "# phr isy database me store kar koi b logic kar sakte hain \n",
    "\n",
    "response = client.chat.completions.create(\n",
    "    model=\"gpt-3.5-turbo-1106\",\n",
    "    response_format={\"type\": \"json_object\"},\n",
    "    messages=[\n",
    "        {\"role\": \"system\", \"content\": \"You are a helpful assistant designed to output JSON\"},\n",
    "        {\"role\": \"user\", \"content\": \"List of months that have 31 days\"}\n",
    "    ]\n",
    ")\n",
    "\n",
    "print(response.choices[0].message.content)"
   ]
  },
  {
   "cell_type": "code",
   "execution_count": 4,
   "metadata": {},
   "outputs": [
    {
     "name": "stdout",
     "output_type": "stream",
     "text": [
      "January\n"
     ]
    }
   ],
   "source": [
    "# uper humne JSON format use kiya phr print main key jo k [month] hai wo pass ki or end me index number bataya to 1 index january aa gaya\n",
    "\n",
    "import json\n",
    "\n",
    "obj : dict[str, list[str]] = json.loads(response.choices[0].message.content)\n",
    "print(obj[\"months\"][0])"
   ]
  }
 ],
 "metadata": {
  "kernelspec": {
   "display_name": "python12",
   "language": "python",
   "name": "python3"
  },
  "language_info": {
   "codemirror_mode": {
    "name": "ipython",
    "version": 3
   },
   "file_extension": ".py",
   "mimetype": "text/x-python",
   "name": "python",
   "nbconvert_exporter": "python",
   "pygments_lexer": "ipython3",
   "version": "3.12.0"
  }
 },
 "nbformat": 4,
 "nbformat_minor": 2
}
