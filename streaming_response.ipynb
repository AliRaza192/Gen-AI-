{
 "cells": [
  {
   "cell_type": "code",
   "execution_count": 1,
   "metadata": {},
   "outputs": [],
   "source": [
    "from openai import OpenAI \n",
    "from dotenv import load_dotenv, find_dotenv\n",
    "\n",
    "_: bool = load_dotenv(find_dotenv())\n",
    "\n",
    "client : OpenAI = OpenAI()"
   ]
  },
  {
   "cell_type": "code",
   "execution_count": 3,
   "metadata": {},
   "outputs": [
    {
     "name": "stdout",
     "output_type": "stream",
     "text": [
      "\n",
      "Sorry\n",
      ",\n",
      " I\n",
      " don\n",
      "'t\n",
      " have\n",
      " friends\n",
      " in\n",
      " the\n",
      " traditional\n",
      " sense\n",
      " as\n",
      " I\n",
      " am\n",
      " an\n",
      " AI\n",
      " digital\n",
      " assistant\n",
      ".\n",
      " However\n",
      ",\n",
      " I\n",
      " am\n",
      " here\n",
      " to\n",
      " help\n",
      " and\n",
      " assist\n",
      " you\n",
      " in\n",
      " any\n",
      " way\n",
      " I\n",
      " can\n",
      ".\n",
      "\n"
     ]
    },
    {
     "data": {
      "text/plain": [
       "{}"
      ]
     },
     "metadata": {},
     "output_type": "display_data"
    }
   ],
   "source": [
    "# streaming ka matlab hai jub hum kisi b LLM model ko prompt dete hain wo jese jese genrate kar raha hota hai hume sath hi sath response b karta hai //\n",
    "# isi check ko streaming kehte hain \n",
    "# is print ka result check karain to pehle sorry, phr I phr dont is tarah aaya \n",
    "\n",
    "from openai import OpenAI\n",
    "\n",
    "client = OpenAI()\n",
    "\n",
    "stream = client.chat.completions.create(\n",
    "    model=\"gpt-3.5-turbo-1106\",\n",
    "    messages=[{\"role\": \"user\", \"content\": \"Say Who are your my freinds?\"}],\n",
    "    stream=True\n",
    ")\n",
    "\n",
    "for part in stream:\n",
    "    print(part.choices[0].delta.content or \"\")\n",
    "\n",
    "display(dict(stream))"
   ]
  },
  {
   "cell_type": "code",
   "execution_count": null,
   "metadata": {},
   "outputs": [],
   "source": []
  }
 ],
 "metadata": {
  "kernelspec": {
   "display_name": "python12",
   "language": "python",
   "name": "python3"
  },
  "language_info": {
   "codemirror_mode": {
    "name": "ipython",
    "version": 3
   },
   "file_extension": ".py",
   "mimetype": "text/x-python",
   "name": "python",
   "nbconvert_exporter": "python",
   "pygments_lexer": "ipython3",
   "version": "3.12.0"
  }
 },
 "nbformat": 4,
 "nbformat_minor": 2
}
