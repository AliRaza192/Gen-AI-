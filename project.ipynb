{
 "cells": [
  {
   "cell_type": "code",
   "execution_count": 3,
   "metadata": {},
   "outputs": [],
   "source": [
    "from openai import OpenAI\n",
    "import json\n",
    "from dotenv import load_dotenv, find_dotenv\n",
    "import os\n",
    "import requests\n",
    "\n",
    "_ : bool = load_dotenv(find_dotenv())   \n",
    "\n",
    "# from openai import OpenAI\n",
    "# import json\n",
    "# from dotenv import load_dotenv, find_dotenv\n",
    "\n",
    "# _ : bool = load_dotenv(find_dotenv()) # read local .env file\n",
    "\n",
    "client : OpenAI = OpenAI()\n"
   ]
  },
  {
   "cell_type": "code",
   "execution_count": 4,
   "metadata": {},
   "outputs": [],
   "source": [
    "client : OpenAI = OpenAI"
   ]
  },
  {
   "cell_type": "code",
   "execution_count": 3,
   "metadata": {},
   "outputs": [
    {
     "name": "stdout",
     "output_type": "stream",
     "text": [
      "[{\"date\": \"2023-09-30\", \"symbol\": \"AAPL\", \"reportedCurrency\": \"USD\", \"cik\": \"0000320193\", \"fillingDate\": \"2023-11-03\", \"acceptedDate\": \"2023-11-02 18:08:27\", \"calendarYear\": \"2023\", \"period\": \"FY\", \"revenue\": 383285000000, \"costOfRevenue\": 214137000000, \"grossProfit\": 169148000000, \"grossProfitRatio\": 0.4413112958, \"researchAndDevelopmentExpenses\": 29915000000, \"generalAndAdministrativeExpenses\": 0, \"sellingAndMarketingExpenses\": 0, \"sellingGeneralAndAdministrativeExpenses\": 24932000000, \"otherExpenses\": -565000000, \"operatingExpenses\": 54847000000, \"costAndExpenses\": 268984000000, \"interestIncome\": 3750000000, \"interestExpense\": 3933000000, \"depreciationAndAmortization\": 11519000000, \"ebitda\": 125820000000, \"ebitdaratio\": 0.3282674772, \"operatingIncome\": 114301000000, \"operatingIncomeRatio\": 0.2982141227, \"totalOtherIncomeExpensesNet\": -565000000, \"incomeBeforeTax\": 113736000000, \"incomeBeforeTaxRatio\": 0.2967400237, \"incomeTaxExpense\": 16741000000, \"netIncome\": 96995000000, \"netIncomeRatio\": 0.2530623426, \"eps\": 6.16, \"epsdiluted\": 6.13, \"weightedAverageShsOut\": 15744231000, \"weightedAverageShsOutDil\": 15812547000, \"link\": \"https://www.sec.gov/Archives/edgar/data/320193/000032019323000106/0000320193-23-000106-index.htm\", \"finalLink\": \"https://www.sec.gov/Archives/edgar/data/320193/000032019323000106/aapl-20230930.htm\"}, {\"date\": \"2022-09-24\", \"symbol\": \"AAPL\", \"reportedCurrency\": \"USD\", \"cik\": \"0000320193\", \"fillingDate\": \"2022-10-28\", \"acceptedDate\": \"2022-10-27 18:01:14\", \"calendarYear\": \"2022\", \"period\": \"FY\", \"revenue\": 394328000000, \"costOfRevenue\": 223546000000, \"grossProfit\": 170782000000, \"grossProfitRatio\": 0.4330963056, \"researchAndDevelopmentExpenses\": 26251000000, \"generalAndAdministrativeExpenses\": 0, \"sellingAndMarketingExpenses\": 0, \"sellingGeneralAndAdministrativeExpenses\": 25094000000, \"otherExpenses\": -334000000, \"operatingExpenses\": 51345000000, \"costAndExpenses\": 274891000000, \"interestIncome\": 2825000000, \"interestExpense\": 2931000000, \"depreciationAndAmortization\": 11104000000, \"ebitda\": 130541000000, \"ebitdaratio\": 0.3310467428, \"operatingIncome\": 119437000000, \"operatingIncomeRatio\": 0.302887444, \"totalOtherIncomeExpensesNet\": -334000000, \"incomeBeforeTax\": 119103000000, \"incomeBeforeTaxRatio\": 0.3020404333, \"incomeTaxExpense\": 19300000000, \"netIncome\": 99803000000, \"netIncomeRatio\": 0.2530964071, \"eps\": 6.15, \"epsdiluted\": 6.11, \"weightedAverageShsOut\": 16215963000, \"weightedAverageShsOutDil\": 16325819000, \"link\": \"https://www.sec.gov/Archives/edgar/data/320193/000032019322000108/0000320193-22-000108-index.htm\", \"finalLink\": \"https://www.sec.gov/Archives/edgar/data/320193/000032019322000108/aapl-20220924.htm\"}, {\"date\": \"2021-09-25\", \"symbol\": \"AAPL\", \"reportedCurrency\": \"USD\", \"cik\": \"0000320193\", \"fillingDate\": \"2021-10-29\", \"acceptedDate\": \"2021-10-28 18:04:28\", \"calendarYear\": \"2021\", \"period\": \"FY\", \"revenue\": 365817000000, \"costOfRevenue\": 212981000000, \"grossProfit\": 152836000000, \"grossProfitRatio\": 0.4177935963, \"researchAndDevelopmentExpenses\": 21914000000, \"generalAndAdministrativeExpenses\": 0, \"sellingAndMarketingExpenses\": 0, \"sellingGeneralAndAdministrativeExpenses\": 21973000000, \"otherExpenses\": 258000000, \"operatingExpenses\": 43887000000, \"costAndExpenses\": 256868000000, \"interestIncome\": 2843000000, \"interestExpense\": 2645000000, \"depreciationAndAmortization\": 11284000000, \"ebitda\": 120233000000, \"ebitdaratio\": 0.3286697994, \"operatingIncome\": 108949000000, \"operatingIncomeRatio\": 0.2978237753, \"totalOtherIncomeExpensesNet\": 258000000, \"incomeBeforeTax\": 109207000000, \"incomeBeforeTaxRatio\": 0.2985290459, \"incomeTaxExpense\": 14527000000, \"netIncome\": 94680000000, \"netIncomeRatio\": 0.2588179336, \"eps\": 5.67, \"epsdiluted\": 5.61, \"weightedAverageShsOut\": 16701272000, \"weightedAverageShsOutDil\": 16864919000, \"link\": \"https://www.sec.gov/Archives/edgar/data/320193/000032019321000105/0000320193-21-000105-index.htm\", \"finalLink\": \"https://www.sec.gov/Archives/edgar/data/320193/000032019321000105/aapl-20210925.htm\"}, {\"date\": \"2020-09-26\", \"symbol\": \"AAPL\", \"reportedCurrency\": \"USD\", \"cik\": \"0000320193\", \"fillingDate\": \"2020-10-30\", \"acceptedDate\": \"2020-10-29 18:06:25\", \"calendarYear\": \"2020\", \"period\": \"FY\", \"revenue\": 274515000000, \"costOfRevenue\": 169559000000, \"grossProfit\": 104956000000, \"grossProfitRatio\": 0.3823324773, \"researchAndDevelopmentExpenses\": 18752000000, \"generalAndAdministrativeExpenses\": 0, \"sellingAndMarketingExpenses\": 0, \"sellingGeneralAndAdministrativeExpenses\": 19916000000, \"otherExpenses\": 803000000, \"operatingExpenses\": 38668000000, \"costAndExpenses\": 208227000000, \"interestIncome\": 3763000000, \"interestExpense\": 2873000000, \"depreciationAndAmortization\": 11056000000, \"ebitda\": 77344000000, \"ebitdaratio\": 0.2817478098, \"operatingIncome\": 66288000000, \"operatingIncomeRatio\": 0.2414731435, \"totalOtherIncomeExpensesNet\": 803000000, \"incomeBeforeTax\": 67091000000, \"incomeBeforeTaxRatio\": 0.2443983025, \"incomeTaxExpense\": 9680000000, \"netIncome\": 57411000000, \"netIncomeRatio\": 0.2091361128, \"eps\": 3.31, \"epsdiluted\": 3.28, \"weightedAverageShsOut\": 17352119000, \"weightedAverageShsOutDil\": 17528214000, \"link\": \"https://www.sec.gov/Archives/edgar/data/320193/000032019320000096/0000320193-20-000096-index.htm\", \"finalLink\": \"https://www.sec.gov/Archives/edgar/data/320193/000032019320000096/aapl-20200926.htm\"}, {\"date\": \"2019-09-28\", \"symbol\": \"AAPL\", \"reportedCurrency\": \"USD\", \"cik\": \"0000320193\", \"fillingDate\": \"2019-10-31\", \"acceptedDate\": \"2019-10-30 18:12:36\", \"calendarYear\": \"2019\", \"period\": \"FY\", \"revenue\": 260174000000, \"costOfRevenue\": 161782000000, \"grossProfit\": 98392000000, \"grossProfitRatio\": 0.3781776811, \"researchAndDevelopmentExpenses\": 16217000000, \"generalAndAdministrativeExpenses\": 0, \"sellingAndMarketingExpenses\": 0, \"sellingGeneralAndAdministrativeExpenses\": 18245000000, \"otherExpenses\": 1807000000, \"operatingExpenses\": 34462000000, \"costAndExpenses\": 196244000000, \"interestIncome\": 4961000000, \"interestExpense\": 3576000000, \"depreciationAndAmortization\": 12547000000, \"ebitda\": 76477000000, \"ebitdaratio\": 0.2939455903, \"operatingIncome\": 63930000000, \"operatingIncomeRatio\": 0.2457201719, \"totalOtherIncomeExpensesNet\": 1807000000, \"incomeBeforeTax\": 65737000000, \"incomeBeforeTaxRatio\": 0.2526655238, \"incomeTaxExpense\": 10481000000, \"netIncome\": 55256000000, \"netIncomeRatio\": 0.2123809451, \"eps\": 2.99, \"epsdiluted\": 2.97, \"weightedAverageShsOut\": 18471336000, \"weightedAverageShsOutDil\": 18595652000, \"link\": \"https://www.sec.gov/Archives/edgar/data/320193/000032019319000119/0000320193-19-000119-index.htm\", \"finalLink\": \"https://www.sec.gov/Archives/edgar/data/320193/000032019319000119/a10-k20199282019.htm\"}]\n"
     ]
    }
   ],
   "source": [
    "import requests\n",
    "key = os.environ[\"FMP_API_KEY\"]\n",
    "\n",
    "def income_statement(period):\n",
    "    url = f\"https://financialmodelingprep.com/api/v3/income-statement/0000320193?period={period}&apikey={key}\"\n",
    "    response = requests.get(url)\n",
    "    return json.dumps(response.json())\n",
    "\n",
    "print(income_statement(\"annual\"))\n"
   ]
  },
  {
   "cell_type": "code",
   "execution_count": 5,
   "metadata": {},
   "outputs": [
    {
     "name": "stdout",
     "output_type": "stream",
     "text": [
      "[{\"date\": \"2023-09-30\", \"symbol\": \"AAPL\", \"reportedCurrency\": \"USD\", \"cik\": \"0000320193\", \"fillingDate\": \"2023-11-03\", \"acceptedDate\": \"2023-11-02 18:08:27\", \"calendarYear\": \"2023\", \"period\": \"FY\", \"cashAndCashEquivalents\": 29965000000, \"shortTermInvestments\": 31590000000, \"cashAndShortTermInvestments\": 61555000000, \"netReceivables\": 60985000000, \"inventory\": 6331000000, \"otherCurrentAssets\": 14695000000, \"totalCurrentAssets\": 143566000000, \"propertyPlantEquipmentNet\": 43715000000, \"goodwill\": 0, \"intangibleAssets\": 0, \"goodwillAndIntangibleAssets\": 0, \"longTermInvestments\": 100544000000, \"taxAssets\": 0, \"otherNonCurrentAssets\": 64758000000, \"totalNonCurrentAssets\": 209017000000, \"otherAssets\": 0, \"totalAssets\": 352583000000, \"accountPayables\": 62611000000, \"shortTermDebt\": 15807000000, \"taxPayables\": 0, \"deferredRevenue\": 8061000000, \"otherCurrentLiabilities\": 58829000000, \"totalCurrentLiabilities\": 145308000000, \"longTermDebt\": 95281000000, \"deferredRevenueNonCurrent\": 0, \"deferredTaxLiabilitiesNonCurrent\": 0, \"otherNonCurrentLiabilities\": 49848000000, \"totalNonCurrentLiabilities\": 145129000000, \"otherLiabilities\": 0, \"capitalLeaseObligations\": 0, \"totalLiabilities\": 290437000000, \"preferredStock\": 0, \"commonStock\": 73812000000, \"retainedEarnings\": -214000000, \"accumulatedOtherComprehensiveIncomeLoss\": -11452000000, \"othertotalStockholdersEquity\": 0, \"totalStockholdersEquity\": 62146000000, \"totalEquity\": 62146000000, \"totalLiabilitiesAndStockholdersEquity\": 352583000000, \"minorityInterest\": 0, \"totalLiabilitiesAndTotalEquity\": 352583000000, \"totalInvestments\": 31590000000, \"totalDebt\": 111088000000, \"netDebt\": 81123000000, \"link\": \"https://www.sec.gov/Archives/edgar/data/320193/000032019323000106/0000320193-23-000106-index.htm\", \"finalLink\": \"https://www.sec.gov/Archives/edgar/data/320193/000032019323000106/aapl-20230930.htm\"}, {\"date\": \"2022-09-24\", \"symbol\": \"AAPL\", \"reportedCurrency\": \"USD\", \"cik\": \"0000320193\", \"fillingDate\": \"2022-10-28\", \"acceptedDate\": \"2022-10-27 18:01:14\", \"calendarYear\": \"2022\", \"period\": \"FY\", \"cashAndCashEquivalents\": 23646000000, \"shortTermInvestments\": 24658000000, \"cashAndShortTermInvestments\": 48304000000, \"netReceivables\": 60932000000, \"inventory\": 4946000000, \"otherCurrentAssets\": 21223000000, \"totalCurrentAssets\": 135405000000, \"propertyPlantEquipmentNet\": 42117000000, \"goodwill\": 0, \"intangibleAssets\": 0, \"goodwillAndIntangibleAssets\": 0, \"longTermInvestments\": 120805000000, \"taxAssets\": 0, \"otherNonCurrentAssets\": 54428000000, \"totalNonCurrentAssets\": 217350000000, \"otherAssets\": 0, \"totalAssets\": 352755000000, \"accountPayables\": 64115000000, \"shortTermDebt\": 21110000000, \"taxPayables\": 0, \"deferredRevenue\": 7912000000, \"otherCurrentLiabilities\": 60845000000, \"totalCurrentLiabilities\": 153982000000, \"longTermDebt\": 98959000000, \"deferredRevenueNonCurrent\": 0, \"deferredTaxLiabilitiesNonCurrent\": 0, \"otherNonCurrentLiabilities\": 49142000000, \"totalNonCurrentLiabilities\": 148101000000, \"otherLiabilities\": 0, \"capitalLeaseObligations\": 0, \"totalLiabilities\": 302083000000, \"preferredStock\": 0, \"commonStock\": 64849000000, \"retainedEarnings\": -3068000000, \"accumulatedOtherComprehensiveIncomeLoss\": -11109000000, \"othertotalStockholdersEquity\": 0, \"totalStockholdersEquity\": 50672000000, \"totalEquity\": 50672000000, \"totalLiabilitiesAndStockholdersEquity\": 352755000000, \"minorityInterest\": 0, \"totalLiabilitiesAndTotalEquity\": 352755000000, \"totalInvestments\": 145463000000, \"totalDebt\": 120069000000, \"netDebt\": 96423000000, \"link\": \"https://www.sec.gov/Archives/edgar/data/320193/000032019322000108/0000320193-22-000108-index.htm\", \"finalLink\": \"https://www.sec.gov/Archives/edgar/data/320193/000032019322000108/aapl-20220924.htm\"}, {\"date\": \"2021-09-25\", \"symbol\": \"AAPL\", \"reportedCurrency\": \"USD\", \"cik\": \"0000320193\", \"fillingDate\": \"2021-10-29\", \"acceptedDate\": \"2021-10-28 18:04:28\", \"calendarYear\": \"2021\", \"period\": \"FY\", \"cashAndCashEquivalents\": 34940000000, \"shortTermInvestments\": 27699000000, \"cashAndShortTermInvestments\": 62639000000, \"netReceivables\": 51506000000, \"inventory\": 6580000000, \"otherCurrentAssets\": 14111000000, \"totalCurrentAssets\": 134836000000, \"propertyPlantEquipmentNet\": 39440000000, \"goodwill\": 0, \"intangibleAssets\": 0, \"goodwillAndIntangibleAssets\": 0, \"longTermInvestments\": 127877000000, \"taxAssets\": 0, \"otherNonCurrentAssets\": 48849000000, \"totalNonCurrentAssets\": 216166000000, \"otherAssets\": 0, \"totalAssets\": 351002000000, \"accountPayables\": 54763000000, \"shortTermDebt\": 15613000000, \"taxPayables\": 0, \"deferredRevenue\": 7612000000, \"otherCurrentLiabilities\": 47493000000, \"totalCurrentLiabilities\": 125481000000, \"longTermDebt\": 109106000000, \"deferredRevenueNonCurrent\": 0, \"deferredTaxLiabilitiesNonCurrent\": 0, \"otherNonCurrentLiabilities\": 53325000000, \"totalNonCurrentLiabilities\": 162431000000, \"otherLiabilities\": 0, \"capitalLeaseObligations\": 0, \"totalLiabilities\": 287912000000, \"preferredStock\": 0, \"commonStock\": 57365000000, \"retainedEarnings\": 5562000000, \"accumulatedOtherComprehensiveIncomeLoss\": 163000000, \"othertotalStockholdersEquity\": 0, \"totalStockholdersEquity\": 63090000000, \"totalEquity\": 63090000000, \"totalLiabilitiesAndStockholdersEquity\": 351002000000, \"minorityInterest\": 0, \"totalLiabilitiesAndTotalEquity\": 351002000000, \"totalInvestments\": 155576000000, \"totalDebt\": 124719000000, \"netDebt\": 89779000000, \"link\": \"https://www.sec.gov/Archives/edgar/data/320193/000032019321000105/0000320193-21-000105-index.htm\", \"finalLink\": \"https://www.sec.gov/Archives/edgar/data/320193/000032019321000105/aapl-20210925.htm\"}, {\"date\": \"2020-09-26\", \"symbol\": \"AAPL\", \"reportedCurrency\": \"USD\", \"cik\": \"0000320193\", \"fillingDate\": \"2020-10-30\", \"acceptedDate\": \"2020-10-29 18:06:25\", \"calendarYear\": \"2020\", \"period\": \"FY\", \"cashAndCashEquivalents\": 38016000000, \"shortTermInvestments\": 52927000000, \"cashAndShortTermInvestments\": 90943000000, \"netReceivables\": 37445000000, \"inventory\": 4061000000, \"otherCurrentAssets\": 11264000000, \"totalCurrentAssets\": 143713000000, \"propertyPlantEquipmentNet\": 36766000000, \"goodwill\": 0, \"intangibleAssets\": 0, \"goodwillAndIntangibleAssets\": 0, \"longTermInvestments\": 100887000000, \"taxAssets\": 0, \"otherNonCurrentAssets\": 42522000000, \"totalNonCurrentAssets\": 180175000000, \"otherAssets\": 0, \"totalAssets\": 323888000000, \"accountPayables\": 42296000000, \"shortTermDebt\": 13769000000, \"taxPayables\": 0, \"deferredRevenue\": 6643000000, \"otherCurrentLiabilities\": 42684000000, \"totalCurrentLiabilities\": 105392000000, \"longTermDebt\": 98667000000, \"deferredRevenueNonCurrent\": 0, \"deferredTaxLiabilitiesNonCurrent\": 0, \"otherNonCurrentLiabilities\": 54490000000, \"totalNonCurrentLiabilities\": 153157000000, \"otherLiabilities\": 0, \"capitalLeaseObligations\": 0, \"totalLiabilities\": 258549000000, \"preferredStock\": 0, \"commonStock\": 50779000000, \"retainedEarnings\": 14966000000, \"accumulatedOtherComprehensiveIncomeLoss\": -406000000, \"othertotalStockholdersEquity\": 0, \"totalStockholdersEquity\": 65339000000, \"totalEquity\": 65339000000, \"totalLiabilitiesAndStockholdersEquity\": 323888000000, \"minorityInterest\": 0, \"totalLiabilitiesAndTotalEquity\": 323888000000, \"totalInvestments\": 153814000000, \"totalDebt\": 112436000000, \"netDebt\": 74420000000, \"link\": \"https://www.sec.gov/Archives/edgar/data/320193/000032019320000096/0000320193-20-000096-index.htm\", \"finalLink\": \"https://www.sec.gov/Archives/edgar/data/320193/000032019320000096/aapl-20200926.htm\"}, {\"date\": \"2019-09-28\", \"symbol\": \"AAPL\", \"reportedCurrency\": \"USD\", \"cik\": \"0000320193\", \"fillingDate\": \"2019-10-31\", \"acceptedDate\": \"2019-10-30 18:12:36\", \"calendarYear\": \"2019\", \"period\": \"FY\", \"cashAndCashEquivalents\": 48844000000, \"shortTermInvestments\": 51713000000, \"cashAndShortTermInvestments\": 100557000000, \"netReceivables\": 45804000000, \"inventory\": 4106000000, \"otherCurrentAssets\": 12352000000, \"totalCurrentAssets\": 162819000000, \"propertyPlantEquipmentNet\": 37378000000, \"goodwill\": 0, \"intangibleAssets\": 0, \"goodwillAndIntangibleAssets\": 0, \"longTermInvestments\": 105341000000, \"taxAssets\": 0, \"otherNonCurrentAssets\": 32978000000, \"totalNonCurrentAssets\": 175697000000, \"otherAssets\": 0, \"totalAssets\": 338516000000, \"accountPayables\": 46236000000, \"shortTermDebt\": 16240000000, \"taxPayables\": 0, \"deferredRevenue\": 5522000000, \"otherCurrentLiabilities\": 37720000000, \"totalCurrentLiabilities\": 105718000000, \"longTermDebt\": 91807000000, \"deferredRevenueNonCurrent\": 0, \"deferredTaxLiabilitiesNonCurrent\": 0, \"otherNonCurrentLiabilities\": 50503000000, \"totalNonCurrentLiabilities\": 142310000000, \"otherLiabilities\": 0, \"capitalLeaseObligations\": 0, \"totalLiabilities\": 248028000000, \"preferredStock\": 0, \"commonStock\": 45174000000, \"retainedEarnings\": 45898000000, \"accumulatedOtherComprehensiveIncomeLoss\": -584000000, \"othertotalStockholdersEquity\": 0, \"totalStockholdersEquity\": 90488000000, \"totalEquity\": 90488000000, \"totalLiabilitiesAndStockholdersEquity\": 338516000000, \"minorityInterest\": 0, \"totalLiabilitiesAndTotalEquity\": 338516000000, \"totalInvestments\": 157054000000, \"totalDebt\": 108047000000, \"netDebt\": 59203000000, \"link\": \"https://www.sec.gov/Archives/edgar/data/320193/000032019319000119/0000320193-19-000119-index.htm\", \"finalLink\": \"https://www.sec.gov/Archives/edgar/data/320193/000032019319000119/a10-k20199282019.htm\"}]\n"
     ]
    }
   ],
   "source": [
    "import requests\n",
    "import os\n",
    "import json\n",
    "key = os.environ[\"FMP_API_KEY\"]\n",
    "\n",
    "def balance_sheet():\n",
    "    url = f\"https://financialmodelingprep.com/api/v3/balance-sheet-statement/0000320193?period=annual&apikey={key}\"\n",
    "    response = requests.get(url)\n",
    "    return json.dumps(response.json())\n",
    "\n",
    "print(balance_sheet())\n"
   ]
  },
  {
   "cell_type": "code",
   "execution_count": 4,
   "metadata": {},
   "outputs": [
    {
     "ename": "AttributeError",
     "evalue": "type object 'OpenAI' has no attribute 'beta'",
     "output_type": "error",
     "traceback": [
      "\u001b[1;31m---------------------------------------------------------------------------\u001b[0m",
      "\u001b[1;31mAttributeError\u001b[0m                            Traceback (most recent call last)",
      "Cell \u001b[1;32mIn[4], line 3\u001b[0m\n\u001b[0;32m      1\u001b[0m \u001b[38;5;28;01mfrom\u001b[39;00m \u001b[38;5;21;01mopenai\u001b[39;00m\u001b[38;5;21;01m.\u001b[39;00m\u001b[38;5;21;01mtypes\u001b[39;00m\u001b[38;5;21;01m.\u001b[39;00m\u001b[38;5;21;01mbeta\u001b[39;00m \u001b[38;5;28;01mimport\u001b[39;00m Assistant\n\u001b[1;32m----> 3\u001b[0m assistant \u001b[38;5;241m=\u001b[39m \u001b[43mclient\u001b[49m\u001b[38;5;241;43m.\u001b[39;49m\u001b[43mbeta\u001b[49m\u001b[38;5;241m.\u001b[39massistants\u001b[38;5;241m.\u001b[39mcreate(\n\u001b[0;32m      4\u001b[0m     name\u001b[38;5;241m=\u001b[39m\u001b[38;5;124m\"\u001b[39m\u001b[38;5;124mfinancial analyst specialist\u001b[39m\u001b[38;5;124m\"\u001b[39m,\n\u001b[0;32m      5\u001b[0m     model\u001b[38;5;241m=\u001b[39m\u001b[38;5;124m\"\u001b[39m\u001b[38;5;124mgpt-3.5-turbo\u001b[39m\u001b[38;5;124m\"\u001b[39m,\n\u001b[0;32m      6\u001b[0m     tools \u001b[38;5;241m=\u001b[39m [\n\u001b[0;32m      7\u001b[0m         {\n\u001b[0;32m      8\u001b[0m             \u001b[38;5;124m\"\u001b[39m\u001b[38;5;124mtype\u001b[39m\u001b[38;5;124m\"\u001b[39m: \u001b[38;5;124m\"\u001b[39m\u001b[38;5;124mfunction\u001b[39m\u001b[38;5;124m\"\u001b[39m,\n\u001b[0;32m      9\u001b[0m             \u001b[38;5;124m\"\u001b[39m\u001b[38;5;124mfunction\u001b[39m\u001b[38;5;124m\"\u001b[39m: {\n\u001b[0;32m     10\u001b[0m                 \u001b[38;5;124m\"\u001b[39m\u001b[38;5;124mname\u001b[39m\u001b[38;5;124m\"\u001b[39m: \u001b[38;5;124m\"\u001b[39m\u001b[38;5;124mincome_statement\u001b[39m\u001b[38;5;124m\"\u001b[39m,\n\u001b[0;32m     11\u001b[0m                 \u001b[38;5;124m\"\u001b[39m\u001b[38;5;124mdescription\u001b[39m\u001b[38;5;124m\"\u001b[39m: \u001b[38;5;124m\"\u001b[39m\u001b[38;5;124mGet income statment quater or annual as per parameter or desire query.\u001b[39m\u001b[38;5;124m\"\u001b[39m,\n\u001b[0;32m     12\u001b[0m                 \u001b[38;5;124m\"\u001b[39m\u001b[38;5;124mparameters\u001b[39m\u001b[38;5;124m\"\u001b[39m: {\n\u001b[0;32m     13\u001b[0m                     \u001b[38;5;124m\"\u001b[39m\u001b[38;5;124mtype\u001b[39m\u001b[38;5;124m\"\u001b[39m: \u001b[38;5;124m\"\u001b[39m\u001b[38;5;124mobject\u001b[39m\u001b[38;5;124m\"\u001b[39m,\n\u001b[0;32m     14\u001b[0m                     \u001b[38;5;124m\"\u001b[39m\u001b[38;5;124mproperties\u001b[39m\u001b[38;5;124m\"\u001b[39m: {\n\u001b[0;32m     15\u001b[0m                         \u001b[38;5;124m\"\u001b[39m\u001b[38;5;124mperiod\u001b[39m\u001b[38;5;124m\"\u001b[39m: {\n\u001b[0;32m     16\u001b[0m                             \u001b[38;5;124m\"\u001b[39m\u001b[38;5;124mtype\u001b[39m\u001b[38;5;124m\"\u001b[39m: \u001b[38;5;124m\"\u001b[39m\u001b[38;5;124mstring\u001b[39m\u001b[38;5;124m\"\u001b[39m,\n\u001b[0;32m     17\u001b[0m                             \u001b[38;5;124m\"\u001b[39m\u001b[38;5;124mdescription\u001b[39m\u001b[38;5;124m\"\u001b[39m: \u001b[38;5;124m\"\u001b[39m\u001b[38;5;124mincome statment quater or annual\u001b[39m\u001b[38;5;124m\"\u001b[39m,\n\u001b[0;32m     18\u001b[0m                         },\n\u001b[0;32m     19\u001b[0m                     },\n\u001b[0;32m     20\u001b[0m                     \u001b[38;5;124m\"\u001b[39m\u001b[38;5;124mrequired\u001b[39m\u001b[38;5;124m\"\u001b[39m:[\u001b[38;5;124m\"\u001b[39m\u001b[38;5;124mperiod\u001b[39m\u001b[38;5;124m\"\u001b[39m],\n\u001b[0;32m     21\u001b[0m                 },\n\u001b[0;32m     22\u001b[0m             },\n\u001b[0;32m     23\u001b[0m         }\n\u001b[0;32m     24\u001b[0m     ]\n\u001b[0;32m     25\u001b[0m )\n",
      "\u001b[1;31mAttributeError\u001b[0m: type object 'OpenAI' has no attribute 'beta'"
     ]
    }
   ],
   "source": [
    "from openai.types.beta import Assistant\n",
    "\n",
    "assistant = client.beta.assistants.create(\n",
    "    name=\"financial analyst specialist\",\n",
    "    model=\"gpt-3.5-turbo\",\n",
    "    tools = [\n",
    "        {\n",
    "            \"type\": \"function\",\n",
    "            \"function\": {\n",
    "                \"name\": \"income_statement\",\n",
    "                \"description\": \"Get income statment quater or annual as per parameter or desire query.\",\n",
    "                \"parameters\": {\n",
    "                    \"type\": \"object\",\n",
    "                    \"properties\": {\n",
    "                        \"period\": {\n",
    "                            \"type\": \"string\",\n",
    "                            \"description\": \"income statment quater or annual\",\n",
    "                        },\n",
    "                    },\n",
    "                    \"required\":[\"period\"],\n",
    "                },\n",
    "            },\n",
    "        }\n",
    "    ]\n",
    ")\n",
    "\n",
    "\n"
   ]
  },
  {
   "cell_type": "code",
   "execution_count": null,
   "metadata": {},
   "outputs": [],
   "source": []
  }
 ],
 "metadata": {
  "kernelspec": {
   "display_name": "Python 3",
   "language": "python",
   "name": "python3"
  },
  "language_info": {
   "codemirror_mode": {
    "name": "ipython",
    "version": 3
   },
   "file_extension": ".py",
   "mimetype": "text/x-python",
   "name": "python",
   "nbconvert_exporter": "python",
   "pygments_lexer": "ipython3",
   "version": "3.12.1"
  }
 },
 "nbformat": 4,
 "nbformat_minor": 2
}
